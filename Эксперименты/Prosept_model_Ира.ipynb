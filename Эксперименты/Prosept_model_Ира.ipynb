{
 "cells": [
  {
   "cell_type": "code",
   "execution_count": 1,
   "id": "d2df309c-ef1e-4678-b86f-1f53bbda5879",
   "metadata": {},
   "outputs": [],
   "source": [
    "import numpy as np\n",
    "import pandas as pd\n",
    "import matplotlib.pyplot as plt\n",
    "import warnings\n",
    "warnings.filterwarnings('ignore')\n",
    "\n",
    "from sklearn.ensemble import RandomForestClassifier\n",
    "from sklearn.tree import DecisionTreeClassifier\n",
    "from sklearn.model_selection import train_test_split, cross_val_score\n",
    "from sklearn.utils import shuffle\n",
    "from sklearn.metrics import precision_score, recall_score, roc_auc_score, roc_curve\n"
   ]
  },
  {
   "cell_type": "markdown",
   "id": "bdce7d5f-d44f-460d-acd1-9bf2d93999c1",
   "metadata": {},
   "source": [
    "# Выгружаем данные"
   ]
  },
  {
   "cell_type": "code",
   "execution_count": 2,
   "id": "4981ec9c-6265-4015-a6d5-a9536c1ed69f",
   "metadata": {},
   "outputs": [],
   "source": [
    "total = pd.read_csv('/Users/evgen/OneDrive/Рабочий стол/Просепт/data/data/total_table.csv')\n",
    "tt = pd.read_csv('/Users/evgen/OneDrive/Рабочий стол/Просепт/data/data/for_model.csv')\n",
    "tt_den = pd.read_csv('/Users/evgen/OneDrive/Рабочий стол/Просепт/data/data/tt_den.csv')\n",
    "tt_den_idx = pd.read_csv('/Users/evgen/OneDrive/Рабочий стол/Просепт/data/data/tt_den_idx.csv')\n",
    "tt_test_den = pd.read_csv('/Users/evgen/OneDrive/Рабочий стол/Просепт/data/data/tt_test_den.csv')"
   ]
  },
  {
   "cell_type": "code",
   "execution_count": 3,
   "id": "ca67ceb7-1b71-4beb-8953-9e7fcaa70557",
   "metadata": {},
   "outputs": [
    {
     "data": {
      "text/html": [
       "<div>\n",
       "<style scoped>\n",
       "    .dataframe tbody tr th:only-of-type {\n",
       "        vertical-align: middle;\n",
       "    }\n",
       "\n",
       "    .dataframe tbody tr th {\n",
       "        vertical-align: top;\n",
       "    }\n",
       "\n",
       "    .dataframe thead th {\n",
       "        text-align: right;\n",
       "    }\n",
       "</style>\n",
       "<table border=\"1\" class=\"dataframe\">\n",
       "  <thead>\n",
       "    <tr style=\"text-align: right;\">\n",
       "      <th></th>\n",
       "      <th>Unnamed: 0</th>\n",
       "      <th>idx</th>\n",
       "      <th>distance</th>\n",
       "      <th>query_idx</th>\n",
       "      <th>true_answer_for_query_idx</th>\n",
       "      <th>true_answer_for_idx</th>\n",
       "      <th>target</th>\n",
       "      <th>quantity</th>\n",
       "      <th>dimension</th>\n",
       "      <th>diff_price</th>\n",
       "      <th>0</th>\n",
       "      <th>1</th>\n",
       "      <th>unknown</th>\n",
       "    </tr>\n",
       "  </thead>\n",
       "  <tbody>\n",
       "    <tr>\n",
       "      <th>0</th>\n",
       "      <td>0</td>\n",
       "      <td>203</td>\n",
       "      <td>0.000000</td>\n",
       "      <td>1213</td>\n",
       "      <td>328</td>\n",
       "      <td>328</td>\n",
       "      <td>1</td>\n",
       "      <td>1</td>\n",
       "      <td>1</td>\n",
       "      <td>108.0</td>\n",
       "      <td>0.0</td>\n",
       "      <td>0.0</td>\n",
       "      <td>1.0</td>\n",
       "    </tr>\n",
       "    <tr>\n",
       "      <th>1</th>\n",
       "      <td>1</td>\n",
       "      <td>71</td>\n",
       "      <td>0.432659</td>\n",
       "      <td>1213</td>\n",
       "      <td>328</td>\n",
       "      <td>492</td>\n",
       "      <td>0</td>\n",
       "      <td>0</td>\n",
       "      <td>0</td>\n",
       "      <td>935.0</td>\n",
       "      <td>0.0</td>\n",
       "      <td>0.0</td>\n",
       "      <td>1.0</td>\n",
       "    </tr>\n",
       "    <tr>\n",
       "      <th>2</th>\n",
       "      <td>2</td>\n",
       "      <td>185</td>\n",
       "      <td>0.533340</td>\n",
       "      <td>1213</td>\n",
       "      <td>328</td>\n",
       "      <td>219</td>\n",
       "      <td>0</td>\n",
       "      <td>0</td>\n",
       "      <td>1</td>\n",
       "      <td>913.0</td>\n",
       "      <td>0.0</td>\n",
       "      <td>0.0</td>\n",
       "      <td>1.0</td>\n",
       "    </tr>\n",
       "    <tr>\n",
       "      <th>3</th>\n",
       "      <td>3</td>\n",
       "      <td>188</td>\n",
       "      <td>0.647902</td>\n",
       "      <td>1213</td>\n",
       "      <td>328</td>\n",
       "      <td>327</td>\n",
       "      <td>0</td>\n",
       "      <td>1</td>\n",
       "      <td>1</td>\n",
       "      <td>92.0</td>\n",
       "      <td>0.0</td>\n",
       "      <td>0.0</td>\n",
       "      <td>1.0</td>\n",
       "    </tr>\n",
       "    <tr>\n",
       "      <th>4</th>\n",
       "      <td>4</td>\n",
       "      <td>439</td>\n",
       "      <td>0.693470</td>\n",
       "      <td>1213</td>\n",
       "      <td>328</td>\n",
       "      <td>330</td>\n",
       "      <td>0</td>\n",
       "      <td>1</td>\n",
       "      <td>1</td>\n",
       "      <td>20.0</td>\n",
       "      <td>0.0</td>\n",
       "      <td>0.0</td>\n",
       "      <td>1.0</td>\n",
       "    </tr>\n",
       "  </tbody>\n",
       "</table>\n",
       "</div>"
      ],
      "text/plain": [
       "   Unnamed: 0  idx  distance  query_idx  true_answer_for_query_idx  \\\n",
       "0           0  203  0.000000       1213                        328   \n",
       "1           1   71  0.432659       1213                        328   \n",
       "2           2  185  0.533340       1213                        328   \n",
       "3           3  188  0.647902       1213                        328   \n",
       "4           4  439  0.693470       1213                        328   \n",
       "\n",
       "   true_answer_for_idx  target  quantity  dimension  diff_price    0    1  \\\n",
       "0                  328       1         1          1       108.0  0.0  0.0   \n",
       "1                  492       0         0          0       935.0  0.0  0.0   \n",
       "2                  219       0         0          1       913.0  0.0  0.0   \n",
       "3                  327       0         1          1        92.0  0.0  0.0   \n",
       "4                  330       0         1          1        20.0  0.0  0.0   \n",
       "\n",
       "   unknown  \n",
       "0      1.0  \n",
       "1      1.0  \n",
       "2      1.0  \n",
       "3      1.0  \n",
       "4      1.0  "
      ]
     },
     "execution_count": 3,
     "metadata": {},
     "output_type": "execute_result"
    }
   ],
   "source": [
    "tt_test_den.head()"
   ]
  },
  {
   "cell_type": "code",
   "execution_count": 4,
   "id": "d2f80909-ad1b-43b5-9f31-7becdd267617",
   "metadata": {},
   "outputs": [],
   "source": [
    "subd_base = {k: v for k, v in enumerate(tt_test_den['true_answer_for_idx'].to_list())} # словарь для сопоставления индекса и id\n",
    "subd_query = {k: v for k, v in enumerate(tt_test_den['true_answer_for_query_idx'].to_list())}\n"
   ]
  },
  {
   "cell_type": "code",
   "execution_count": 5,
   "id": "afb5defb-fb06-4d14-8574-885b19e8f4d0",
   "metadata": {},
   "outputs": [
    {
     "data": {
      "text/html": [
       "<div>\n",
       "<style scoped>\n",
       "    .dataframe tbody tr th:only-of-type {\n",
       "        vertical-align: middle;\n",
       "    }\n",
       "\n",
       "    .dataframe tbody tr th {\n",
       "        vertical-align: top;\n",
       "    }\n",
       "\n",
       "    .dataframe thead th {\n",
       "        text-align: right;\n",
       "    }\n",
       "</style>\n",
       "<table border=\"1\" class=\"dataframe\">\n",
       "  <thead>\n",
       "    <tr style=\"text-align: right;\">\n",
       "      <th></th>\n",
       "      <th>0</th>\n",
       "      <th>1</th>\n",
       "      <th>2</th>\n",
       "      <th>3</th>\n",
       "      <th>4</th>\n",
       "      <th>5</th>\n",
       "      <th>6</th>\n",
       "      <th>7</th>\n",
       "      <th>8</th>\n",
       "      <th>9</th>\n",
       "      <th>...</th>\n",
       "      <th>16805</th>\n",
       "      <th>16806</th>\n",
       "      <th>16807</th>\n",
       "      <th>16808</th>\n",
       "      <th>16809</th>\n",
       "      <th>16810</th>\n",
       "      <th>16811</th>\n",
       "      <th>16812</th>\n",
       "      <th>16813</th>\n",
       "      <th>16814</th>\n",
       "    </tr>\n",
       "  </thead>\n",
       "  <tbody>\n",
       "    <tr>\n",
       "      <th>0</th>\n",
       "      <td>328</td>\n",
       "      <td>492</td>\n",
       "      <td>219</td>\n",
       "      <td>327</td>\n",
       "      <td>330</td>\n",
       "      <td>503</td>\n",
       "      <td>504</td>\n",
       "      <td>436</td>\n",
       "      <td>491</td>\n",
       "      <td>218</td>\n",
       "      <td>...</td>\n",
       "      <td>149</td>\n",
       "      <td>155</td>\n",
       "      <td>154</td>\n",
       "      <td>156</td>\n",
       "      <td>157</td>\n",
       "      <td>158</td>\n",
       "      <td>159</td>\n",
       "      <td>150</td>\n",
       "      <td>161</td>\n",
       "      <td>160</td>\n",
       "    </tr>\n",
       "  </tbody>\n",
       "</table>\n",
       "<p>1 rows × 16815 columns</p>\n",
       "</div>"
      ],
      "text/plain": [
       "   0      1      2      3      4      5      6      7      8      9      ...  \\\n",
       "0    328    492    219    327    330    503    504    436    491    218  ...   \n",
       "\n",
       "   16805  16806  16807  16808  16809  16810  16811  16812  16813  16814  \n",
       "0    149    155    154    156    157    158    159    150    161    160  \n",
       "\n",
       "[1 rows x 16815 columns]"
      ]
     },
     "execution_count": 5,
     "metadata": {},
     "output_type": "execute_result"
    }
   ],
   "source": [
    "pd.DataFrame([subd_base])"
   ]
  },
  {
   "cell_type": "code",
   "execution_count": 6,
   "id": "22206afc-90a3-4c58-a384-6e30da21fecf",
   "metadata": {},
   "outputs": [
    {
     "data": {
      "text/html": [
       "<div>\n",
       "<style scoped>\n",
       "    .dataframe tbody tr th:only-of-type {\n",
       "        vertical-align: middle;\n",
       "    }\n",
       "\n",
       "    .dataframe tbody tr th {\n",
       "        vertical-align: top;\n",
       "    }\n",
       "\n",
       "    .dataframe thead th {\n",
       "        text-align: right;\n",
       "    }\n",
       "</style>\n",
       "<table border=\"1\" class=\"dataframe\">\n",
       "  <thead>\n",
       "    <tr style=\"text-align: right;\">\n",
       "      <th></th>\n",
       "      <th>Unnamed: 0</th>\n",
       "      <th>idx</th>\n",
       "      <th>distance</th>\n",
       "      <th>query_idx</th>\n",
       "      <th>true_answer_for_query_idx</th>\n",
       "      <th>true_answer_for_idx</th>\n",
       "      <th>target</th>\n",
       "      <th>quantity</th>\n",
       "      <th>dimension</th>\n",
       "      <th>diff_price</th>\n",
       "      <th>0</th>\n",
       "      <th>1</th>\n",
       "      <th>unknown</th>\n",
       "    </tr>\n",
       "  </thead>\n",
       "  <tbody>\n",
       "    <tr>\n",
       "      <th>0</th>\n",
       "      <td>0</td>\n",
       "      <td>203</td>\n",
       "      <td>0.000000</td>\n",
       "      <td>1213</td>\n",
       "      <td>328</td>\n",
       "      <td>328</td>\n",
       "      <td>1</td>\n",
       "      <td>1</td>\n",
       "      <td>1</td>\n",
       "      <td>108.0</td>\n",
       "      <td>0.0</td>\n",
       "      <td>0.0</td>\n",
       "      <td>1.0</td>\n",
       "    </tr>\n",
       "    <tr>\n",
       "      <th>1</th>\n",
       "      <td>1</td>\n",
       "      <td>71</td>\n",
       "      <td>0.432659</td>\n",
       "      <td>1213</td>\n",
       "      <td>328</td>\n",
       "      <td>492</td>\n",
       "      <td>0</td>\n",
       "      <td>0</td>\n",
       "      <td>0</td>\n",
       "      <td>935.0</td>\n",
       "      <td>0.0</td>\n",
       "      <td>0.0</td>\n",
       "      <td>1.0</td>\n",
       "    </tr>\n",
       "    <tr>\n",
       "      <th>2</th>\n",
       "      <td>2</td>\n",
       "      <td>185</td>\n",
       "      <td>0.533340</td>\n",
       "      <td>1213</td>\n",
       "      <td>328</td>\n",
       "      <td>219</td>\n",
       "      <td>0</td>\n",
       "      <td>0</td>\n",
       "      <td>1</td>\n",
       "      <td>913.0</td>\n",
       "      <td>0.0</td>\n",
       "      <td>0.0</td>\n",
       "      <td>1.0</td>\n",
       "    </tr>\n",
       "    <tr>\n",
       "      <th>3</th>\n",
       "      <td>3</td>\n",
       "      <td>188</td>\n",
       "      <td>0.647902</td>\n",
       "      <td>1213</td>\n",
       "      <td>328</td>\n",
       "      <td>327</td>\n",
       "      <td>0</td>\n",
       "      <td>1</td>\n",
       "      <td>1</td>\n",
       "      <td>92.0</td>\n",
       "      <td>0.0</td>\n",
       "      <td>0.0</td>\n",
       "      <td>1.0</td>\n",
       "    </tr>\n",
       "    <tr>\n",
       "      <th>4</th>\n",
       "      <td>4</td>\n",
       "      <td>439</td>\n",
       "      <td>0.693470</td>\n",
       "      <td>1213</td>\n",
       "      <td>328</td>\n",
       "      <td>330</td>\n",
       "      <td>0</td>\n",
       "      <td>1</td>\n",
       "      <td>1</td>\n",
       "      <td>20.0</td>\n",
       "      <td>0.0</td>\n",
       "      <td>0.0</td>\n",
       "      <td>1.0</td>\n",
       "    </tr>\n",
       "  </tbody>\n",
       "</table>\n",
       "</div>"
      ],
      "text/plain": [
       "   Unnamed: 0  idx  distance  query_idx  true_answer_for_query_idx  \\\n",
       "0           0  203  0.000000       1213                        328   \n",
       "1           1   71  0.432659       1213                        328   \n",
       "2           2  185  0.533340       1213                        328   \n",
       "3           3  188  0.647902       1213                        328   \n",
       "4           4  439  0.693470       1213                        328   \n",
       "\n",
       "   true_answer_for_idx  target  quantity  dimension  diff_price    0    1  \\\n",
       "0                  328       1         1          1       108.0  0.0  0.0   \n",
       "1                  492       0         0          0       935.0  0.0  0.0   \n",
       "2                  219       0         0          1       913.0  0.0  0.0   \n",
       "3                  327       0         1          1        92.0  0.0  0.0   \n",
       "4                  330       0         1          1        20.0  0.0  0.0   \n",
       "\n",
       "   unknown  \n",
       "0      1.0  \n",
       "1      1.0  \n",
       "2      1.0  \n",
       "3      1.0  \n",
       "4      1.0  "
      ]
     },
     "execution_count": 6,
     "metadata": {},
     "output_type": "execute_result"
    }
   ],
   "source": [
    "tt_test_den.head()"
   ]
  },
  {
   "cell_type": "code",
   "execution_count": 7,
   "id": "76077ace-e479-4911-b45c-7b310794d558",
   "metadata": {},
   "outputs": [],
   "source": [
    "tt_den_shuffle = shuffle(tt_test_den, random_state=12345) # делаем перемешку т.к у нас подряд идут данные каждые 15 раз"
   ]
  },
  {
   "cell_type": "code",
   "execution_count": 8,
   "id": "474cc355-140b-48db-b13c-0e710ccc4432",
   "metadata": {},
   "outputs": [
    {
     "data": {
      "text/html": [
       "<div>\n",
       "<style scoped>\n",
       "    .dataframe tbody tr th:only-of-type {\n",
       "        vertical-align: middle;\n",
       "    }\n",
       "\n",
       "    .dataframe tbody tr th {\n",
       "        vertical-align: top;\n",
       "    }\n",
       "\n",
       "    .dataframe thead th {\n",
       "        text-align: right;\n",
       "    }\n",
       "</style>\n",
       "<table border=\"1\" class=\"dataframe\">\n",
       "  <thead>\n",
       "    <tr style=\"text-align: right;\">\n",
       "      <th></th>\n",
       "      <th>Unnamed: 0</th>\n",
       "      <th>idx</th>\n",
       "      <th>distance</th>\n",
       "      <th>query_idx</th>\n",
       "      <th>true_answer_for_query_idx</th>\n",
       "      <th>true_answer_for_idx</th>\n",
       "      <th>target</th>\n",
       "      <th>quantity</th>\n",
       "      <th>dimension</th>\n",
       "      <th>diff_price</th>\n",
       "      <th>0</th>\n",
       "      <th>1</th>\n",
       "      <th>unknown</th>\n",
       "    </tr>\n",
       "  </thead>\n",
       "  <tbody>\n",
       "    <tr>\n",
       "      <th>11405</th>\n",
       "      <td>11405</td>\n",
       "      <td>96</td>\n",
       "      <td>1.767744</td>\n",
       "      <td>1373</td>\n",
       "      <td>294</td>\n",
       "      <td>498</td>\n",
       "      <td>0</td>\n",
       "      <td>0</td>\n",
       "      <td>0</td>\n",
       "      <td>283.0</td>\n",
       "      <td>0.0</td>\n",
       "      <td>0.0</td>\n",
       "      <td>1.0</td>\n",
       "    </tr>\n",
       "    <tr>\n",
       "      <th>9975</th>\n",
       "      <td>9975</td>\n",
       "      <td>95</td>\n",
       "      <td>0.972628</td>\n",
       "      <td>1502</td>\n",
       "      <td>426</td>\n",
       "      <td>426</td>\n",
       "      <td>1</td>\n",
       "      <td>1</td>\n",
       "      <td>1</td>\n",
       "      <td>876.0</td>\n",
       "      <td>0.0</td>\n",
       "      <td>1.0</td>\n",
       "      <td>0.0</td>\n",
       "    </tr>\n",
       "    <tr>\n",
       "      <th>4223</th>\n",
       "      <td>4223</td>\n",
       "      <td>360</td>\n",
       "      <td>1.278171</td>\n",
       "      <td>775</td>\n",
       "      <td>253</td>\n",
       "      <td>415</td>\n",
       "      <td>0</td>\n",
       "      <td>0</td>\n",
       "      <td>1</td>\n",
       "      <td>225.0</td>\n",
       "      <td>0.0</td>\n",
       "      <td>0.0</td>\n",
       "      <td>1.0</td>\n",
       "    </tr>\n",
       "    <tr>\n",
       "      <th>5032</th>\n",
       "      <td>5032</td>\n",
       "      <td>35</td>\n",
       "      <td>1.000000</td>\n",
       "      <td>515</td>\n",
       "      <td>381</td>\n",
       "      <td>504</td>\n",
       "      <td>0</td>\n",
       "      <td>0</td>\n",
       "      <td>0</td>\n",
       "      <td>515.0</td>\n",
       "      <td>1.0</td>\n",
       "      <td>0.0</td>\n",
       "      <td>0.0</td>\n",
       "    </tr>\n",
       "    <tr>\n",
       "      <th>1048</th>\n",
       "      <td>1048</td>\n",
       "      <td>64</td>\n",
       "      <td>1.547211</td>\n",
       "      <td>1059</td>\n",
       "      <td>393</td>\n",
       "      <td>488</td>\n",
       "      <td>0</td>\n",
       "      <td>0</td>\n",
       "      <td>0</td>\n",
       "      <td>92.0</td>\n",
       "      <td>0.0</td>\n",
       "      <td>0.0</td>\n",
       "      <td>1.0</td>\n",
       "    </tr>\n",
       "    <tr>\n",
       "      <th>...</th>\n",
       "      <td>...</td>\n",
       "      <td>...</td>\n",
       "      <td>...</td>\n",
       "      <td>...</td>\n",
       "      <td>...</td>\n",
       "      <td>...</td>\n",
       "      <td>...</td>\n",
       "      <td>...</td>\n",
       "      <td>...</td>\n",
       "      <td>...</td>\n",
       "      <td>...</td>\n",
       "      <td>...</td>\n",
       "      <td>...</td>\n",
       "    </tr>\n",
       "    <tr>\n",
       "      <th>7709</th>\n",
       "      <td>7709</td>\n",
       "      <td>478</td>\n",
       "      <td>1.689843</td>\n",
       "      <td>818</td>\n",
       "      <td>123</td>\n",
       "      <td>57</td>\n",
       "      <td>0</td>\n",
       "      <td>1</td>\n",
       "      <td>1</td>\n",
       "      <td>96.0</td>\n",
       "      <td>0.0</td>\n",
       "      <td>0.0</td>\n",
       "      <td>1.0</td>\n",
       "    </tr>\n",
       "    <tr>\n",
       "      <th>4094</th>\n",
       "      <td>4094</td>\n",
       "      <td>433</td>\n",
       "      <td>1.419306</td>\n",
       "      <td>547</td>\n",
       "      <td>324</td>\n",
       "      <td>329</td>\n",
       "      <td>0</td>\n",
       "      <td>0</td>\n",
       "      <td>1</td>\n",
       "      <td>476.0</td>\n",
       "      <td>1.0</td>\n",
       "      <td>0.0</td>\n",
       "      <td>0.0</td>\n",
       "    </tr>\n",
       "    <tr>\n",
       "      <th>11689</th>\n",
       "      <td>11689</td>\n",
       "      <td>326</td>\n",
       "      <td>0.641840</td>\n",
       "      <td>438</td>\n",
       "      <td>76</td>\n",
       "      <td>72</td>\n",
       "      <td>0</td>\n",
       "      <td>0</td>\n",
       "      <td>1</td>\n",
       "      <td>1001.0</td>\n",
       "      <td>1.0</td>\n",
       "      <td>0.0</td>\n",
       "      <td>0.0</td>\n",
       "    </tr>\n",
       "    <tr>\n",
       "      <th>2177</th>\n",
       "      <td>2177</td>\n",
       "      <td>284</td>\n",
       "      <td>0.216198</td>\n",
       "      <td>326</td>\n",
       "      <td>405</td>\n",
       "      <td>403</td>\n",
       "      <td>0</td>\n",
       "      <td>0</td>\n",
       "      <td>1</td>\n",
       "      <td>3145.0</td>\n",
       "      <td>1.0</td>\n",
       "      <td>0.0</td>\n",
       "      <td>0.0</td>\n",
       "    </tr>\n",
       "    <tr>\n",
       "      <th>11749</th>\n",
       "      <td>11749</td>\n",
       "      <td>451</td>\n",
       "      <td>1.127689</td>\n",
       "      <td>583</td>\n",
       "      <td>9</td>\n",
       "      <td>8</td>\n",
       "      <td>0</td>\n",
       "      <td>0</td>\n",
       "      <td>1</td>\n",
       "      <td>1041.0</td>\n",
       "      <td>0.0</td>\n",
       "      <td>0.0</td>\n",
       "      <td>1.0</td>\n",
       "    </tr>\n",
       "  </tbody>\n",
       "</table>\n",
       "<p>16815 rows × 13 columns</p>\n",
       "</div>"
      ],
      "text/plain": [
       "       Unnamed: 0  idx  distance  query_idx  true_answer_for_query_idx  \\\n",
       "11405       11405   96  1.767744       1373                        294   \n",
       "9975         9975   95  0.972628       1502                        426   \n",
       "4223         4223  360  1.278171        775                        253   \n",
       "5032         5032   35  1.000000        515                        381   \n",
       "1048         1048   64  1.547211       1059                        393   \n",
       "...           ...  ...       ...        ...                        ...   \n",
       "7709         7709  478  1.689843        818                        123   \n",
       "4094         4094  433  1.419306        547                        324   \n",
       "11689       11689  326  0.641840        438                         76   \n",
       "2177         2177  284  0.216198        326                        405   \n",
       "11749       11749  451  1.127689        583                          9   \n",
       "\n",
       "       true_answer_for_idx  target  quantity  dimension  diff_price    0    1  \\\n",
       "11405                  498       0         0          0       283.0  0.0  0.0   \n",
       "9975                   426       1         1          1       876.0  0.0  1.0   \n",
       "4223                   415       0         0          1       225.0  0.0  0.0   \n",
       "5032                   504       0         0          0       515.0  1.0  0.0   \n",
       "1048                   488       0         0          0        92.0  0.0  0.0   \n",
       "...                    ...     ...       ...        ...         ...  ...  ...   \n",
       "7709                    57       0         1          1        96.0  0.0  0.0   \n",
       "4094                   329       0         0          1       476.0  1.0  0.0   \n",
       "11689                   72       0         0          1      1001.0  1.0  0.0   \n",
       "2177                   403       0         0          1      3145.0  1.0  0.0   \n",
       "11749                    8       0         0          1      1041.0  0.0  0.0   \n",
       "\n",
       "       unknown  \n",
       "11405      1.0  \n",
       "9975       0.0  \n",
       "4223       1.0  \n",
       "5032       0.0  \n",
       "1048       1.0  \n",
       "...        ...  \n",
       "7709       1.0  \n",
       "4094       0.0  \n",
       "11689      0.0  \n",
       "2177       0.0  \n",
       "11749      1.0  \n",
       "\n",
       "[16815 rows x 13 columns]"
      ]
     },
     "execution_count": 8,
     "metadata": {},
     "output_type": "execute_result"
    }
   ],
   "source": [
    "tt_den_shuffle"
   ]
  },
  {
   "cell_type": "markdown",
   "id": "8a73484d-c40d-4b83-8efe-acfddce80236",
   "metadata": {},
   "source": [
    "# Делим на выборки"
   ]
  },
  {
   "cell_type": "code",
   "execution_count": 9,
   "id": "e6e90f3f-5c02-4564-9bf7-b1f3405f80d3",
   "metadata": {},
   "outputs": [],
   "source": [
    "train, test = train_test_split(tt_den_shuffle, test_size=0.1, random_state=12345) # делим на выборки"
   ]
  },
  {
   "cell_type": "code",
   "execution_count": 10,
   "id": "7e600254-e01f-4305-9142-c9188ee4c754",
   "metadata": {},
   "outputs": [
    {
     "name": "stdout",
     "output_type": "stream",
     "text": [
      "(15133, 13) (1682, 13)\n"
     ]
    }
   ],
   "source": [
    "print(train.shape, test.shape)"
   ]
  },
  {
   "cell_type": "code",
   "execution_count": 11,
   "id": "abbe2f5a-9747-4b16-9991-bd81ef57d929",
   "metadata": {},
   "outputs": [
    {
     "name": "stdout",
     "output_type": "stream",
     "text": [
      "(15133, 7) (15133,) (1682, 7) (1682,)\n"
     ]
    }
   ],
   "source": [
    "features_train = train.drop(['target', 'Unnamed: 0', 'idx', 'query_idx', 'true_answer_for_query_idx', 'true_answer_for_idx'], axis=1)\n",
    "target_train = train['target']\n",
    "features_test = test.drop(['target', 'Unnamed: 0', 'idx', 'query_idx', 'true_answer_for_query_idx', 'true_answer_for_idx'], axis=1)\n",
    "target_test = test['target']\n",
    "print(features_train.shape, target_train.shape, features_test.shape, target_test.shape)"
   ]
  },
  {
   "cell_type": "code",
   "execution_count": 12,
   "id": "fbfbf1cf-78d4-4699-950a-f314b0bd195c",
   "metadata": {},
   "outputs": [
    {
     "data": {
      "text/html": [
       "<div>\n",
       "<style scoped>\n",
       "    .dataframe tbody tr th:only-of-type {\n",
       "        vertical-align: middle;\n",
       "    }\n",
       "\n",
       "    .dataframe tbody tr th {\n",
       "        vertical-align: top;\n",
       "    }\n",
       "\n",
       "    .dataframe thead th {\n",
       "        text-align: right;\n",
       "    }\n",
       "</style>\n",
       "<table border=\"1\" class=\"dataframe\">\n",
       "  <thead>\n",
       "    <tr style=\"text-align: right;\">\n",
       "      <th></th>\n",
       "      <th>distance</th>\n",
       "      <th>quantity</th>\n",
       "      <th>dimension</th>\n",
       "      <th>diff_price</th>\n",
       "      <th>0</th>\n",
       "      <th>1</th>\n",
       "      <th>unknown</th>\n",
       "    </tr>\n",
       "  </thead>\n",
       "  <tbody>\n",
       "    <tr>\n",
       "      <th>6207</th>\n",
       "      <td>0.866330</td>\n",
       "      <td>0</td>\n",
       "      <td>1</td>\n",
       "      <td>106.0</td>\n",
       "      <td>0.0</td>\n",
       "      <td>0.0</td>\n",
       "      <td>1.0</td>\n",
       "    </tr>\n",
       "    <tr>\n",
       "      <th>6277</th>\n",
       "      <td>1.742581</td>\n",
       "      <td>1</td>\n",
       "      <td>1</td>\n",
       "      <td>83.0</td>\n",
       "      <td>0.0</td>\n",
       "      <td>0.0</td>\n",
       "      <td>1.0</td>\n",
       "    </tr>\n",
       "    <tr>\n",
       "      <th>570</th>\n",
       "      <td>0.381166</td>\n",
       "      <td>1</td>\n",
       "      <td>1</td>\n",
       "      <td>636.0</td>\n",
       "      <td>0.0</td>\n",
       "      <td>0.0</td>\n",
       "      <td>1.0</td>\n",
       "    </tr>\n",
       "    <tr>\n",
       "      <th>9882</th>\n",
       "      <td>1.668305</td>\n",
       "      <td>0</td>\n",
       "      <td>0</td>\n",
       "      <td>807.0</td>\n",
       "      <td>0.0</td>\n",
       "      <td>0.0</td>\n",
       "      <td>1.0</td>\n",
       "    </tr>\n",
       "    <tr>\n",
       "      <th>2790</th>\n",
       "      <td>0.000000</td>\n",
       "      <td>0</td>\n",
       "      <td>1</td>\n",
       "      <td>364.0</td>\n",
       "      <td>0.0</td>\n",
       "      <td>0.0</td>\n",
       "      <td>1.0</td>\n",
       "    </tr>\n",
       "  </tbody>\n",
       "</table>\n",
       "</div>"
      ],
      "text/plain": [
       "      distance  quantity  dimension  diff_price    0    1  unknown\n",
       "6207  0.866330         0          1       106.0  0.0  0.0      1.0\n",
       "6277  1.742581         1          1        83.0  0.0  0.0      1.0\n",
       "570   0.381166         1          1       636.0  0.0  0.0      1.0\n",
       "9882  1.668305         0          0       807.0  0.0  0.0      1.0\n",
       "2790  0.000000         0          1       364.0  0.0  0.0      1.0"
      ]
     },
     "execution_count": 12,
     "metadata": {},
     "output_type": "execute_result"
    }
   ],
   "source": [
    "features_train.head()"
   ]
  },
  {
   "cell_type": "markdown",
   "id": "89fcb609-c443-4e97-b029-ea80f4fa2e56",
   "metadata": {},
   "source": [
    "# Смотрим баланс классов"
   ]
  },
  {
   "cell_type": "code",
   "execution_count": 13,
   "id": "21c8182e-98c5-4ce3-b55f-19958194cbe8",
   "metadata": {},
   "outputs": [
    {
     "data": {
      "text/plain": [
       "0    0.937913\n",
       "1    0.062087\n",
       "Name: target, dtype: float64"
      ]
     },
     "metadata": {},
     "output_type": "display_data"
    },
    {
     "data": {
      "image/png": "[encoded data removed]",
      "text/plain": [
       "<Figure size 500x300 with 1 Axes>"
      ]
     },
     "metadata": {},
     "output_type": "display_data"
    }
   ],
   "source": [
    "class_frequency = tt_den_shuffle['target'].value_counts(normalize=True)\n",
    "display(class_frequency)\n",
    "class_frequency.plot(kind='bar', grid=True, figsize=(5,3));\n",
    "plt.title('Распределение правильных ответов');"
   ]
  },
  {
   "cell_type": "markdown",
   "id": "7c25186d-981e-4c19-b54d-38ea4aaa2885",
   "metadata": {},
   "source": [
    "## Создаем функции для балансировки классов"
   ]
  },
  {
   "cell_type": "code",
   "execution_count": 14,
   "id": "d2020672-a04a-47d3-86a6-345ffad5ee41",
   "metadata": {},
   "outputs": [],
   "source": [
    "def downsample(features, target, fraction):      #уменьшение выборки\n",
    "    features_zeros = features[target == 0]\n",
    "    features_ones = features[target == 1]\n",
    "    target_zeros = target[target == 0]\n",
    "    target_ones = target[target == 1]\n",
    "    features_downsampled = pd.concat(\n",
    "                                    [features_zeros.sample(frac=fraction, random_state=42)] + [features_ones])\n",
    "    target_downsampled = pd.concat(\n",
    "                                    [target_zeros.sample(frac=fraction, random_state=42)] + [target_ones])\n",
    "    features_downsampled, target_downsampled = shuffle(\n",
    "                                    features_downsampled, target_downsampled, random_state=42)\n",
    "    return features_downsampled, target_downsampled\n"
   ]
  },
  {
   "cell_type": "code",
   "execution_count": 15,
   "id": "3805456e-a34f-4e58-aa90-e61967507569",
   "metadata": {},
   "outputs": [],
   "source": [
    "def upsample(features, target, repeat):        #увеличение выборки\n",
    "    features_zeros = features[target == 0]\n",
    "    features_ones = features[target == 1]\n",
    "    target_zeros = target[target == 0]\n",
    "    target_ones = target[target == 1]\n",
    "    \n",
    "    features_upsampled = pd.concat([features_zeros] + [features_ones] * repeat)\n",
    "    target_upsampled = pd.concat([target_zeros] + [target_ones] * repeat)\n",
    "    \n",
    "    features_upsampled, target_upsampled = shuffle(\n",
    "        features_upsampled, target_upsampled, random_state=12345)\n",
    "    \n",
    "    return features_upsampled, target_upsampled"
   ]
  },
  {
   "cell_type": "markdown",
   "id": "00f8953b-d483-4db1-b8f8-de371c68560d",
   "metadata": {},
   "source": [
    "# Подборка модели обучения и балансировки "
   ]
  },
  {
   "cell_type": "markdown",
   "id": "306f0518-b064-424c-a17f-bef75619fc9b",
   "metadata": {},
   "source": [
    "## Проверяем показатели при уменьшении выборки"
   ]
  },
  {
   "cell_type": "code",
   "execution_count": 16,
   "id": "7eb8cfcd-732d-4836-80ac-1e09a135637c",
   "metadata": {},
   "outputs": [
    {
     "data": {
      "text/html": [
       "<div>\n",
       "<style scoped>\n",
       "    .dataframe tbody tr th:only-of-type {\n",
       "        vertical-align: middle;\n",
       "    }\n",
       "\n",
       "    .dataframe tbody tr th {\n",
       "        vertical-align: top;\n",
       "    }\n",
       "\n",
       "    .dataframe thead th {\n",
       "        text-align: right;\n",
       "    }\n",
       "</style>\n",
       "<table border=\"1\" class=\"dataframe\">\n",
       "  <thead>\n",
       "    <tr style=\"text-align: right;\">\n",
       "      <th></th>\n",
       "      <th>distance</th>\n",
       "      <th>quantity</th>\n",
       "      <th>dimension</th>\n",
       "      <th>diff_price</th>\n",
       "      <th>0</th>\n",
       "      <th>1</th>\n",
       "      <th>unknown</th>\n",
       "    </tr>\n",
       "  </thead>\n",
       "  <tbody>\n",
       "    <tr>\n",
       "      <th>1486</th>\n",
       "      <td>0.412963</td>\n",
       "      <td>1</td>\n",
       "      <td>1</td>\n",
       "      <td>0.0</td>\n",
       "      <td>0.0</td>\n",
       "      <td>0.0</td>\n",
       "      <td>1.0</td>\n",
       "    </tr>\n",
       "    <tr>\n",
       "      <th>3634</th>\n",
       "      <td>1.273084</td>\n",
       "      <td>0</td>\n",
       "      <td>0</td>\n",
       "      <td>418.0</td>\n",
       "      <td>0.0</td>\n",
       "      <td>0.0</td>\n",
       "      <td>1.0</td>\n",
       "    </tr>\n",
       "    <tr>\n",
       "      <th>7021</th>\n",
       "      <td>0.150488</td>\n",
       "      <td>1</td>\n",
       "      <td>1</td>\n",
       "      <td>67.0</td>\n",
       "      <td>0.0</td>\n",
       "      <td>0.0</td>\n",
       "      <td>1.0</td>\n",
       "    </tr>\n",
       "    <tr>\n",
       "      <th>14998</th>\n",
       "      <td>1.475616</td>\n",
       "      <td>0</td>\n",
       "      <td>1</td>\n",
       "      <td>1424.0</td>\n",
       "      <td>0.0</td>\n",
       "      <td>0.0</td>\n",
       "      <td>1.0</td>\n",
       "    </tr>\n",
       "    <tr>\n",
       "      <th>12795</th>\n",
       "      <td>0.465969</td>\n",
       "      <td>1</td>\n",
       "      <td>1</td>\n",
       "      <td>0.0</td>\n",
       "      <td>0.0</td>\n",
       "      <td>0.0</td>\n",
       "      <td>1.0</td>\n",
       "    </tr>\n",
       "  </tbody>\n",
       "</table>\n",
       "</div>"
      ],
      "text/plain": [
       "       distance  quantity  dimension  diff_price    0    1  unknown\n",
       "1486   0.412963         1          1         0.0  0.0  0.0      1.0\n",
       "3634   1.273084         0          0       418.0  0.0  0.0      1.0\n",
       "7021   0.150488         1          1        67.0  0.0  0.0      1.0\n",
       "14998  1.475616         0          1      1424.0  0.0  0.0      1.0\n",
       "12795  0.465969         1          1         0.0  0.0  0.0      1.0"
      ]
     },
     "metadata": {},
     "output_type": "display_data"
    },
    {
     "data": {
      "text/plain": [
       "1486     1\n",
       "3634     0\n",
       "7021     1\n",
       "14998    0\n",
       "12795    1\n",
       "Name: target, dtype: int64"
      ]
     },
     "metadata": {},
     "output_type": "display_data"
    }
   ],
   "source": [
    "features_downsampled, target_downsampled = downsample(features_train, target_train, 0.06)\n",
    "\n",
    "display(features_downsampled.head(5))\n",
    "display(target_downsampled.head(5))"
   ]
  },
  {
   "cell_type": "code",
   "execution_count": 17,
   "id": "85d3d059-8fe4-4f71-9363-ede3a2fa970d",
   "metadata": {},
   "outputs": [
    {
     "data": {
      "text/plain": [
       "1    0.524819\n",
       "0    0.475181\n",
       "Name: target, dtype: float64"
      ]
     },
     "metadata": {},
     "output_type": "display_data"
    },
    {
     "data": {
      "image/png": "[encoded data removed]",
      "text/plain": [
       "<Figure size 500x300 with 1 Axes>"
      ]
     },
     "metadata": {},
     "output_type": "display_data"
    }
   ],
   "source": [
    "class_frequency = target_downsampled.value_counts(normalize=True)\n",
    "display(class_frequency)\n",
    "class_frequency.plot(kind='bar', grid=True, figsize=(5,3));\n",
    "plt.title('Распределение правильных ответов');"
   ]
  },
  {
   "cell_type": "markdown",
   "id": "ee422ee1-bd9c-4251-8e7c-174c93c7b7ac",
   "metadata": {},
   "source": [
    "### Модель Случайный лес при downsample"
   ]
  },
  {
   "cell_type": "code",
   "execution_count": 18,
   "id": "af84d43a-fc80-4d5c-9c8a-61cdfa7912c9",
   "metadata": {},
   "outputs": [
    {
     "name": "stdout",
     "output_type": "stream",
     "text": [
      "Оценка AUC ROC на кросс валидации: 0.969\n"
     ]
    }
   ],
   "source": [
    "model = RandomForestClassifier(random_state=42, class_weight='balanced')\n",
    "result = cross_val_score(model, features_downsampled, target_downsampled, cv=5, scoring='roc_auc').mean()\n",
    "print(f'Оценка AUC ROC на кросс валидации: {result:.3f}')"
   ]
  },
  {
   "cell_type": "markdown",
   "id": "93dc7d7d-3cd1-4528-9cdd-42559d68d1f3",
   "metadata": {},
   "source": [
    "### Модель Случайный лес при downsample"
   ]
  },
  {
   "cell_type": "code",
   "execution_count": 19,
   "id": "67064110-22dd-485c-a2be-22e59626bb66",
   "metadata": {},
   "outputs": [
    {
     "name": "stdout",
     "output_type": "stream",
     "text": [
      "Оценка AUC ROC на кросс валидации: 0.889\n"
     ]
    }
   ],
   "source": [
    "# steps = ['lg', LogisticRegression(random_state=12345, C=15.0]\n",
    "# pipeline = Pipeline(steps)\n",
    "model = DecisionTreeClassifier(random_state=42, class_weight='balanced')\n",
    "result = cross_val_score(model, features_downsampled, target_downsampled, cv=5, scoring='roc_auc').mean()\n",
    "print(f'Оценка AUC ROC на кросс валидации: {result:.3f}')"
   ]
  },
  {
   "cell_type": "markdown",
   "id": "865c2cbb-adb5-4f0e-b6f9-4676bac7df48",
   "metadata": {},
   "source": [
    "### ROC кривая для Леса с downsample"
   ]
  },
  {
   "cell_type": "code",
   "execution_count": 20,
   "id": "aa08d02d-2abc-4a02-bf39-74547d7f9ba3",
   "metadata": {},
   "outputs": [
    {
     "data": {
      "image/png": "[encoded data removed]",
      "text/plain": [
       "<Figure size 640x480 with 1 Axes>"
      ]
     },
     "metadata": {},
     "output_type": "display_data"
    }
   ],
   "source": [
    "ft, fv, target_t, target_v = train_test_split(features_downsampled, target_downsampled, test_size=0.3, random_state=12345) \n",
    "\n",
    "model = RandomForestClassifier(random_state=42, class_weight='balanced')\n",
    "model.fit(ft, target_t)\n",
    "predict = model.predict(fv)\n",
    "result_test = roc_auc_score(target_v, predict)\n",
    "probabilities_valid = model.predict_proba(fv)\n",
    "probabilities_one_valid = probabilities_valid[:, 1]\n",
    "\n",
    "fpr, tpr, thresholds = roc_curve(target_v, probabilities_one_valid)\n",
    "\n",
    "plt.figure()\n",
    "plt.plot(fpr, tpr)\n",
    "\n",
    "plt.plot([0, 1], [0, 1], linestyle='--')\n",
    "plt.xlim([0.0, 1.0])\n",
    "plt.ylim([0.0, 1.0])\n",
    "\n",
    "plt.xlabel('False Positive Rate')\n",
    "plt.ylabel('True Positive Rate')\n",
    "\n",
    "plt.title(\"ROC-кривая при уменьшении выборки\")\n",
    "\n",
    "plt.show()"
   ]
  },
  {
   "cell_type": "markdown",
   "id": "76c5740d-076f-48a0-b851-191138f7bfe4",
   "metadata": {},
   "source": [
    "## Проверяем показатели при увеличении выборки"
   ]
  },
  {
   "cell_type": "code",
   "execution_count": 21,
   "id": "9151ff00-b881-407a-a31b-14ebf1c08d84",
   "metadata": {},
   "outputs": [
    {
     "data": {
      "text/html": [
       "<div>\n",
       "<style scoped>\n",
       "    .dataframe tbody tr th:only-of-type {\n",
       "        vertical-align: middle;\n",
       "    }\n",
       "\n",
       "    .dataframe tbody tr th {\n",
       "        vertical-align: top;\n",
       "    }\n",
       "\n",
       "    .dataframe thead th {\n",
       "        text-align: right;\n",
       "    }\n",
       "</style>\n",
       "<table border=\"1\" class=\"dataframe\">\n",
       "  <thead>\n",
       "    <tr style=\"text-align: right;\">\n",
       "      <th></th>\n",
       "      <th>distance</th>\n",
       "      <th>quantity</th>\n",
       "      <th>dimension</th>\n",
       "      <th>diff_price</th>\n",
       "      <th>0</th>\n",
       "      <th>1</th>\n",
       "      <th>unknown</th>\n",
       "    </tr>\n",
       "  </thead>\n",
       "  <tbody>\n",
       "    <tr>\n",
       "      <th>15529</th>\n",
       "      <td>0.688545</td>\n",
       "      <td>1</td>\n",
       "      <td>1</td>\n",
       "      <td>38.0</td>\n",
       "      <td>0.0</td>\n",
       "      <td>0.0</td>\n",
       "      <td>1.0</td>\n",
       "    </tr>\n",
       "    <tr>\n",
       "      <th>2131</th>\n",
       "      <td>0.240500</td>\n",
       "      <td>1</td>\n",
       "      <td>1</td>\n",
       "      <td>0.0</td>\n",
       "      <td>0.0</td>\n",
       "      <td>0.0</td>\n",
       "      <td>1.0</td>\n",
       "    </tr>\n",
       "    <tr>\n",
       "      <th>11686</th>\n",
       "      <td>0.528166</td>\n",
       "      <td>1</td>\n",
       "      <td>1</td>\n",
       "      <td>0.0</td>\n",
       "      <td>0.0</td>\n",
       "      <td>1.0</td>\n",
       "      <td>0.0</td>\n",
       "    </tr>\n",
       "    <tr>\n",
       "      <th>12135</th>\n",
       "      <td>0.467038</td>\n",
       "      <td>0</td>\n",
       "      <td>1</td>\n",
       "      <td>97.0</td>\n",
       "      <td>0.0</td>\n",
       "      <td>0.0</td>\n",
       "      <td>1.0</td>\n",
       "    </tr>\n",
       "    <tr>\n",
       "      <th>4003</th>\n",
       "      <td>0.746735</td>\n",
       "      <td>1</td>\n",
       "      <td>0</td>\n",
       "      <td>2895.0</td>\n",
       "      <td>1.0</td>\n",
       "      <td>0.0</td>\n",
       "      <td>0.0</td>\n",
       "    </tr>\n",
       "  </tbody>\n",
       "</table>\n",
       "</div>"
      ],
      "text/plain": [
       "       distance  quantity  dimension  diff_price    0    1  unknown\n",
       "15529  0.688545         1          1        38.0  0.0  0.0      1.0\n",
       "2131   0.240500         1          1         0.0  0.0  0.0      1.0\n",
       "11686  0.528166         1          1         0.0  0.0  1.0      0.0\n",
       "12135  0.467038         0          1        97.0  0.0  0.0      1.0\n",
       "4003   0.746735         1          0      2895.0  1.0  0.0      0.0"
      ]
     },
     "metadata": {},
     "output_type": "display_data"
    },
    {
     "data": {
      "text/plain": [
       "15529    1\n",
       "2131     1\n",
       "11686    1\n",
       "12135    1\n",
       "4003     0\n",
       "Name: target, dtype: int64"
      ]
     },
     "metadata": {},
     "output_type": "display_data"
    }
   ],
   "source": [
    "features_upsampled, target_upsampled = upsample(features_train, target_train, 15)\n",
    "\n",
    "display(features_upsampled.head(5))\n",
    "display(target_upsampled.head(5))"
   ]
  },
  {
   "cell_type": "code",
   "execution_count": 22,
   "id": "dbe46165-2379-4265-85fa-2dbfd2b21e26",
   "metadata": {},
   "outputs": [
    {
     "data": {
      "text/plain": [
       "0    0.50136\n",
       "1    0.49864\n",
       "Name: target, dtype: float64"
      ]
     },
     "metadata": {},
     "output_type": "display_data"
    },
    {
     "data": {
      "image/png": "[encoded data removed]",
      "text/plain": [
       "<Figure size 500x300 with 1 Axes>"
      ]
     },
     "metadata": {},
     "output_type": "display_data"
    }
   ],
   "source": [
    "class_frequency = target_upsampled.value_counts(normalize=True)\n",
    "display(class_frequency)\n",
    "class_frequency.plot(kind='bar', grid=True, figsize=(5,3));\n",
    "plt.title('Распределение правильных ответов');"
   ]
  },
  {
   "cell_type": "markdown",
   "id": "2f737021-f7b9-495c-a4ed-dfd6fb48e2fc",
   "metadata": {},
   "source": [
    "### Случайный лес с upsample"
   ]
  },
  {
   "cell_type": "code",
   "execution_count": 23,
   "id": "129f49a1-94d0-4946-8e37-e273b2beeb25",
   "metadata": {},
   "outputs": [
    {
     "name": "stdout",
     "output_type": "stream",
     "text": [
      "Оценка AUC ROC на кросс валидации: 0.999\n"
     ]
    }
   ],
   "source": [
    "model = RandomForestClassifier(random_state=42, class_weight='balanced')\n",
    "result = cross_val_score(model, features_upsampled, target_upsampled, cv=5, scoring='roc_auc').mean()\n",
    "print(f'Оценка AUC ROC на кросс валидации: {result:.3f}')"
   ]
  },
  {
   "cell_type": "markdown",
   "id": "c0b760f1-dcd7-4a7f-9917-26b3c2560d81",
   "metadata": {},
   "source": [
    "### Дерево решений с upsample"
   ]
  },
  {
   "cell_type": "code",
   "execution_count": 24,
   "id": "653d2c0a-dfa5-4806-b555-14ed0cd861e9",
   "metadata": {},
   "outputs": [
    {
     "name": "stdout",
     "output_type": "stream",
     "text": [
      "Оценка AUC ROC на кросс валидации: 0.989\n"
     ]
    }
   ],
   "source": [
    "model = DecisionTreeClassifier(random_state=42, class_weight='balanced')\n",
    "result = cross_val_score(model, features_upsampled, target_upsampled, cv=5, scoring='roc_auc').mean()\n",
    "print(f'Оценка AUC ROC на кросс валидации: {result:.3f}')"
   ]
  },
  {
   "cell_type": "markdown",
   "id": "85381e3b-7e1a-485d-a5df-e592330c5e69",
   "metadata": {},
   "source": [
    "### ROC кривая для Леса с upsample"
   ]
  },
  {
   "cell_type": "code",
   "execution_count": 26,
   "id": "ca8f4a43-ae37-4c23-8110-24f9253ae7f7",
   "metadata": {},
   "outputs": [
    {
     "data": {
      "image/png": "[encoded data removed]",
      "text/plain": [
       "<Figure size 640x480 with 1 Axes>"
      ]
     },
     "metadata": {},
     "output_type": "display_data"
    }
   ],
   "source": [
    "ft_up, fv_up, target_t_up, target_v_up = train_test_split(features_downsampled, target_downsampled, test_size=0.3, random_state=12345) \n",
    "model = RandomForestClassifier(random_state=42, class_weight='balanced')\n",
    "model.fit(ft_up, target_t_up)\n",
    "predict_up = model.predict(fv_up)\n",
    "probabilities_valid = model.predict_proba(fv_up)\n",
    "probabilities_one_valid = probabilities_valid[:, 1]\n",
    "\n",
    "fpr, tpr, thresholds = roc_curve(target_v_up, probabilities_one_valid)\n",
    "\n",
    "plt.figure()\n",
    "plt.plot(fpr, tpr)\n",
    "\n",
    "plt.plot([0, 1], [0, 1], linestyle='--')\n",
    "plt.xlim([0.0, 1.0])\n",
    "plt.ylim([0.0, 1.0])\n",
    "\n",
    "plt.xlabel('False Positive Rate')\n",
    "plt.ylabel('True Positive Rate')\n",
    "\n",
    "plt.title(\"ROC-кривая\")\n",
    "\n",
    "plt.show()"
   ]
  },
  {
   "cell_type": "code",
   "execution_count": 27,
   "id": "213ff2e7-5739-4267-aa6c-b958ec48557c",
   "metadata": {},
   "outputs": [
    {
     "data": {
      "text/html": [
       "<div>\n",
       "<style scoped>\n",
       "    .dataframe tbody tr th:only-of-type {\n",
       "        vertical-align: middle;\n",
       "    }\n",
       "\n",
       "    .dataframe tbody tr th {\n",
       "        vertical-align: top;\n",
       "    }\n",
       "\n",
       "    .dataframe thead th {\n",
       "        text-align: right;\n",
       "    }\n",
       "</style>\n",
       "<table border=\"1\" class=\"dataframe\">\n",
       "  <thead>\n",
       "    <tr style=\"text-align: right;\">\n",
       "      <th></th>\n",
       "      <th>0</th>\n",
       "    </tr>\n",
       "  </thead>\n",
       "  <tbody>\n",
       "    <tr>\n",
       "      <th>0</th>\n",
       "      <td>0.300079</td>\n",
       "    </tr>\n",
       "    <tr>\n",
       "      <th>1</th>\n",
       "      <td>0.323001</td>\n",
       "    </tr>\n",
       "    <tr>\n",
       "      <th>2</th>\n",
       "      <td>0.028808</td>\n",
       "    </tr>\n",
       "    <tr>\n",
       "      <th>3</th>\n",
       "      <td>0.267384</td>\n",
       "    </tr>\n",
       "    <tr>\n",
       "      <th>4</th>\n",
       "      <td>0.029383</td>\n",
       "    </tr>\n",
       "    <tr>\n",
       "      <th>5</th>\n",
       "      <td>0.039436</td>\n",
       "    </tr>\n",
       "    <tr>\n",
       "      <th>6</th>\n",
       "      <td>0.011909</td>\n",
       "    </tr>\n",
       "  </tbody>\n",
       "</table>\n",
       "</div>"
      ],
      "text/plain": [
       "          0\n",
       "0  0.300079\n",
       "1  0.323001\n",
       "2  0.028808\n",
       "3  0.267384\n",
       "4  0.029383\n",
       "5  0.039436\n",
       "6  0.011909"
      ]
     },
     "execution_count": 27,
     "metadata": {},
     "output_type": "execute_result"
    }
   ],
   "source": [
    "pd.DataFrame(model.feature_importances_) # влияние на обучение по признакам"
   ]
  },
  {
   "cell_type": "markdown",
   "id": "c565b1d2-5623-4078-bc4c-d5727bd5be71",
   "metadata": {},
   "source": [
    "# Финальное тестирование"
   ]
  },
  {
   "cell_type": "code",
   "execution_count": 28,
   "id": "1d4ce6a5-430f-4876-b6ca-f2ac1ab1d272",
   "metadata": {},
   "outputs": [
    {
     "name": "stdout",
     "output_type": "stream",
     "text": [
      "Результат на тесте AUC ROC: 0.857\n"
     ]
    }
   ],
   "source": [
    "model = RandomForestClassifier(random_state=42, class_weight='balanced')\n",
    "model.fit(features_upsampled, target_upsampled)\n",
    "test = model.predict(features_test)\n",
    "result = roc_auc_score(test, target_test)\n",
    "print(f'Результат на тесте AUC ROC: {result:.3f}')"
   ]
  },
  {
   "cell_type": "code",
   "execution_count": null,
   "id": "0ee9e135-d67a-46c8-a87e-3553dab3f6c2",
   "metadata": {},
   "outputs": [],
   "source": []
  }
 ],
 "metadata": {
  "kernelspec": {
   "display_name": "Python 3 (ipykernel)",
   "language": "python",
   "name": "python3"
  },
  "language_info": {
   "codemirror_mode": {
    "name": "ipython",
    "version": 3
   },
   "file_extension": ".py",
   "mimetype": "text/x-python",
   "name": "python",
   "nbconvert_exporter": "python",
   "pygments_lexer": "ipython3",
   "version": "3.9.16"
  }
 },
 "nbformat": 4,
 "nbformat_minor": 5
}
